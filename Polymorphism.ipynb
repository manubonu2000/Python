{
  "nbformat": 4,
  "nbformat_minor": 0,
  "metadata": {
    "colab": {
      "provenance": []
    },
    "kernelspec": {
      "name": "python3",
      "display_name": "Python 3"
    },
    "language_info": {
      "name": "python"
    }
  },
  "cells": [
    {
      "cell_type": "code",
      "execution_count": null,
      "metadata": {
        "colab": {
          "base_uri": "https://localhost:8080/"
        },
        "id": "lkiBnp1hYMuX",
        "outputId": "0a1c792b-2fb6-41ab-8011-d6878f64bd0d"
      },
      "outputs": [
        {
          "output_type": "stream",
          "name": "stdout",
          "text": [
            "7\n",
            "4\n",
            "25\n"
          ]
        }
      ],
      "source": [
        "#using length function\n",
        "a=[2,3,4,5,6,78,79]  #here length function each integer consider as a single element\n",
        "b=['mech','cse','ece','civil',] #here length function consider each string as single element\n",
        "c=' earth rises in the east '    #here length function, each character consider as single element\n",
        "print(len(a))\n",
        "print(len(b))\n",
        "print(len(c))\n",
        "#here finally same length function behaves different in different varibles(in list and in string)\n",
        "#length function is predefined function print count or size in output"
      ]
    },
    {
      "cell_type": "code",
      "source": [
        "#add function in polymorphism\n",
        "#add method is userdefined function\n",
        "def add(a,b,c=0):\n",
        "  return a+b+c\n",
        "print(add(50,60))#In this add method behaves like if we pass two parameters(a and b added)but for c it takes as 0\n",
        "print(add(20,30,40))#In this add method behaves if we pass three parameters a,b and c for c add function 'take the passing value' not default value 0\n",
        "\n"
      ],
      "metadata": {
        "colab": {
          "base_uri": "https://localhost:8080/"
        },
        "id": "426V4Cpwa95w",
        "outputId": "845a9ffb-e21d-45af-8449-0c312d98ddf0"
      },
      "execution_count": null,
      "outputs": [
        {
          "output_type": "stream",
          "name": "stdout",
          "text": [
            "110\n",
            "90\n"
          ]
        }
      ]
    },
    {
      "cell_type": "code",
      "source": [
        "#using add function with more parameters\n",
        "def add (c,d,e=0,f=0):\n",
        "  return c+d+e+f\n",
        "print(add(10,20))#here pass c and d values add remain e and f consider 0\n",
        "print(add(10,20,30))#here c,d,e values added and remain f  consider 0\n",
        "print(add(10,20,30,40))#here all values added\n",
        "#in this add function variables are more but passing values are less then remaining variables values we consider as zero whatever passing values there those values only we added.\n",
        "#in this add function  compulsory we pass  minimum two values maximum four values,because we given four variables we passed."
      ],
      "metadata": {
        "colab": {
          "base_uri": "https://localhost:8080/"
        },
        "id": "vfMbjHSceGU5",
        "outputId": "5373e082-a5bd-486c-c5bf-7139de006a0c"
      },
      "execution_count": null,
      "outputs": [
        {
          "output_type": "stream",
          "name": "stdout",
          "text": [
            "30\n",
            "60\n",
            "100\n"
          ]
        }
      ]
    },
    {
      "cell_type": "code",
      "source": [
        "#same methods behaves different in different classes\n",
        "class hen:\n",
        "  def __init__(self,name,age,legs):\n",
        "    self.name=name\n",
        "    self.age=age\n",
        "    self.legs=legs\n",
        "  def info(self):\n",
        "    print(\"my name is \" ,self.name,\"and my age is: \",self.age,\"and I also have \", self.legs,\"legs\")\n",
        "\n",
        "\n",
        "\n",
        "  def hen_sound(self):\n",
        "    print(\"kokurooko\")\n",
        "\n",
        "class goat:\n",
        "  def __init__(self,name,age,legs):\n",
        "    self.name=name\n",
        "    self.age=age\n",
        "    self.legs=legs\n",
        "  def info(self):\n",
        "    print(\"my name is:{} and my age is:{} and I also have {} legs\".format(self.name,self.age,self.legs))\n",
        "  def goat_sound(self):\n",
        "    print(\"meyyyyyy\")\n",
        "\n",
        "hen3=hen(\"naatukodi\",3,2)\n",
        "hen3.info()\n",
        "hen3.hen_sound()\n",
        "goat2=goat('pandhem gorri',6,4)\n",
        "goat2.info()\n",
        "goat2.goat_sound()\n",
        "\n",
        "\n"
      ],
      "metadata": {
        "colab": {
          "base_uri": "https://localhost:8080/"
        },
        "id": "7LAHOhFBgfJR",
        "outputId": "0c2b0df2-e16e-43a9-8d93-e0430d06e6c8"
      },
      "execution_count": null,
      "outputs": [
        {
          "output_type": "stream",
          "name": "stdout",
          "text": [
            "my name is  naatukodi and my age is:  3 and I also have  2 legs\n",
            "kokurooko\n",
            "my name is:pandhem gorri and my age is:6 and I also have 4 legs\n",
            "meyyyyyy\n"
          ]
        }
      ]
    },
    {
      "cell_type": "code",
      "source": [
        "#using for loop\n",
        "class hen:\n",
        "  def __init__(self,name,age,legs):\n",
        "    self.name=name\n",
        "    self.age=age\n",
        "    self.legs=legs\n",
        "  def info(self):\n",
        "    print(\"my name is \" ,self.name,\"and my age is: \",self.age,\"and I also have \", self.legs,\"legs\")\n",
        "\n",
        "\n",
        "\n",
        "  def sound(self):\n",
        "    print(\"kokurooko\")\n",
        "\n",
        "class goat:\n",
        "  def __init__(self,name,age,legs):\n",
        "    self.name=name\n",
        "    self.age=age\n",
        "    self.legs=legs\n",
        "  def info(self):\n",
        "    print(\"my name is:{} and my age is:{} and I also have {} legs\".format(self.name,self.age,self.legs))\n",
        "  def sound(self):\n",
        "    print(\"meyyyyyy\")\n",
        "\n",
        "\n",
        "hen1=hen(\"brailar\",\"6 months\",2)\n",
        "goat1=goat(\"nanda\",3,4)\n",
        "for i in (hen1,goat1):#by using for loop we access all the methods of all classes\n",
        "      i.info()\n",
        "      i.sound()"
      ],
      "metadata": {
        "colab": {
          "base_uri": "https://localhost:8080/"
        },
        "id": "293dCQsyrn0P",
        "outputId": "021d0002-4f32-449e-83bf-96bc53cd1e3e"
      },
      "execution_count": null,
      "outputs": [
        {
          "output_type": "stream",
          "name": "stdout",
          "text": [
            "my name is  brailar and my age is:  6 months and I also have  2 legs\n",
            "kokurooko\n",
            "my name is:nanda and my age is:3 and I also have 4 legs\n",
            "meyyyyyy\n"
          ]
        }
      ]
    },
    {
      "cell_type": "code",
      "source": [
        "#polymorphism\n",
        "#1.method overloading - compile time polymorphism-having same methods with different parameters in a single class\n",
        "# two methods cannot have same name in python.but method overloading can allows same name to have  different meanings\n",
        "\n",
        "\n",
        "#2.method overriding  - runtime polymorphism -\n",
        "\n",
        "#it cannot be performed in same class and can be performed in different classes and different methods with same name\n",
        "\n",
        "\n",
        "\n",
        "#method overloading\n",
        "class cal:\n",
        "  def add(self,x,y=None,z=None):\n",
        "    if y is not None and z is not None:\n",
        "      return x+y+z\n",
        "    elif y is not None:\n",
        "      return x+y\n",
        "    else:\n",
        "      return x\n",
        "cal1=cal()\n",
        "a=cal1.add(10)\n",
        "print(a)\n",
        "b=cal1.add(10,20)\n",
        "print(b)\n",
        "c=cal1.add(10,20,30)\n",
        "print(c)\n",
        "\n",
        "\n"
      ],
      "metadata": {
        "id": "MS0PkDR8tTUr",
        "colab": {
          "base_uri": "https://localhost:8080/"
        },
        "outputId": "814090e3-beb0-4f84-f8f9-b315d9f9f3a8"
      },
      "execution_count": 8,
      "outputs": [
        {
          "output_type": "stream",
          "name": "stdout",
          "text": [
            "10\n",
            "30\n",
            "60\n"
          ]
        }
      ]
    },
    {
      "cell_type": "code",
      "source": [
        "#method overriding -different methods with same name\n",
        "#multi classes used in method overriding\n",
        "#runtime polymorphism\n",
        "\n",
        "\n",
        "class man:\n",
        "      def  run(self):\n",
        "         print(\" man runs slowly\")\n",
        "class lion:\n",
        "      def run(self):\n",
        "        print(\"run faster than man\")\n",
        "class cheetah:\n",
        "      def run(self):\n",
        "        print(\"run faster than man and lion\")\n",
        "man1=man()\n",
        "man1.run()  #here we satisfy different methods with same name in different classes\n",
        "\n",
        "lion2=lion()\n",
        "lion2.run()\n",
        "#run method is same name in all different calsses\n",
        "cheetah3=cheetah()\n",
        "cheetah3.run()\n",
        "\n"
      ],
      "metadata": {
        "colab": {
          "base_uri": "https://localhost:8080/"
        },
        "id": "PSzFk4BQOOpX",
        "outputId": "13281ef8-9821-437b-fb8c-0ddd3f5a62bf"
      },
      "execution_count": 10,
      "outputs": [
        {
          "output_type": "stream",
          "name": "stdout",
          "text": [
            " man runs slowly\n",
            "run faster than man\n",
            "run faster than man and lion\n"
          ]
        }
      ]
    },
    {
      "cell_type": "code",
      "source": [
        "#with parameters method overriding example\n",
        "class companies:\n",
        "     def __init__(self,brand,location,investment):\n",
        "         self.brand=brand\n",
        "         self.location=location\n",
        "         self.investment=investment\n",
        "     def getbrand(self):\n",
        "         return  self.brand\n",
        "     def getlocation(self):\n",
        "       return self.location\n",
        "\n",
        "class tesla(companies):\n",
        "      def __init__(self,brand,location,investment,extrainvest):\n",
        "          self.extrainvest=extrainvest\n",
        "          super().__init__(brand,location,investment)\n",
        "      def getextrainvest(self):\n",
        "        return self.investment+self.extrainvest\n",
        "\n",
        "\n",
        "companies1=companies('paypal','u.k','1 billion')\n",
        "companies1.getbrand()\n",
        "\n",
        "tesla2=tesla('tesla','u.s.a','1 billion',' plus 2 biillion')\n",
        "tesla2.getextrainvest()\n",
        "tesla2.getbrand()\n",
        "tesla2.getlocation()\n",
        "\n",
        "\n",
        "\n",
        "\n",
        "\n",
        "\n",
        "\n",
        "\n",
        "\n",
        ""
      ],
      "metadata": {
        "colab": {
          "base_uri": "https://localhost:8080/",
          "height": 35
        },
        "id": "Bv0yPgpmQOyc",
        "outputId": "6f0da66f-9a88-4b52-adc4-d370fc129407"
      },
      "execution_count": 40,
      "outputs": [
        {
          "output_type": "execute_result",
          "data": {
            "text/plain": [
              "'u.s.a'"
            ],
            "application/vnd.google.colaboratory.intrinsic+json": {
              "type": "string"
            }
          },
          "metadata": {},
          "execution_count": 40
        }
      ]
    }
  ]
}