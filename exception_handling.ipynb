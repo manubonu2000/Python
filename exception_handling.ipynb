{
  "nbformat": 4,
  "nbformat_minor": 0,
  "metadata": {
    "colab": {
      "provenance": []
    },
    "kernelspec": {
      "name": "python3",
      "display_name": "Python 3"
    },
    "language_info": {
      "name": "python"
    }
  },
  "cells": [
    {
      "cell_type": "code",
      "execution_count": null,
      "metadata": {
        "colab": {
          "base_uri": "https://localhost:8080/",
          "height": 106
        },
        "id": "4neAcnA6HOum",
        "outputId": "daf046b4-f0c4-409e-eee6-3974aa069fb4"
      },
      "outputs": [
        {
          "output_type": "error",
          "ename": "SyntaxError",
          "evalue": "expected ':' (<ipython-input-6-039d0a7ce943>, line 5)",
          "traceback": [
            "\u001b[0;36m  File \u001b[0;32m\"<ipython-input-6-039d0a7ce943>\"\u001b[0;36m, line \u001b[0;32m5\u001b[0m\n\u001b[0;31m    if a==10\u001b[0m\n\u001b[0m             ^\u001b[0m\n\u001b[0;31mSyntaxError\u001b[0m\u001b[0;31m:\u001b[0m expected ':'\n"
          ]
        }
      ],
      "source": [
        "#exception handling\n",
        "#exception means error\n",
        "#two types of errors 1)syntax error (compile time errors)  2)runtime errors (exception/logical errors)\n",
        "a=10\n",
        "if a==10\n",
        "  print(a)\n"
      ]
    },
    {
      "cell_type": "code",
      "source": [
        "print\"good evening\""
      ],
      "metadata": {
        "colab": {
          "base_uri": "https://localhost:8080/",
          "height": 106
        },
        "id": "YBAeUUbsNjcH",
        "outputId": "947a7cfb-e499-43e3-b177-8e8e629565d6"
      },
      "execution_count": null,
      "outputs": [
        {
          "output_type": "error",
          "ename": "SyntaxError",
          "evalue": "Missing parentheses in call to 'print'. Did you mean print(...)? (<ipython-input-5-4995941c9d23>, line 1)",
          "traceback": [
            "\u001b[0;36m  File \u001b[0;32m\"<ipython-input-5-4995941c9d23>\"\u001b[0;36m, line \u001b[0;32m1\u001b[0m\n\u001b[0;31m    print\"good evening\"\u001b[0m\n\u001b[0m    ^\u001b[0m\n\u001b[0;31mSyntaxError\u001b[0m\u001b[0;31m:\u001b[0m Missing parentheses in call to 'print'. Did you mean print(...)?\n"
          ]
        }
      ]
    },
    {
      "cell_type": "code",
      "source": [
        "print(good evening)"
      ],
      "metadata": {
        "colab": {
          "base_uri": "https://localhost:8080/",
          "height": 106
        },
        "id": "0LXE6d88OIsI",
        "outputId": "11a06744-39d5-4fb4-89c4-0c673dd1fcf7"
      },
      "execution_count": null,
      "outputs": [
        {
          "output_type": "error",
          "ename": "SyntaxError",
          "evalue": "invalid syntax. Perhaps you forgot a comma? (<ipython-input-7-2b22ab819012>, line 1)",
          "traceback": [
            "\u001b[0;36m  File \u001b[0;32m\"<ipython-input-7-2b22ab819012>\"\u001b[0;36m, line \u001b[0;32m1\u001b[0m\n\u001b[0;31m    print(good evening)\u001b[0m\n\u001b[0m          ^\u001b[0m\n\u001b[0;31mSyntaxError\u001b[0m\u001b[0;31m:\u001b[0m invalid syntax. Perhaps you forgot a comma?\n"
          ]
        }
      ]
    },
    {
      "cell_type": "code",
      "source": [
        "#runtime errors or logical or exception\n",
        "print(10/0)\n"
      ],
      "metadata": {
        "colab": {
          "base_uri": "https://localhost:8080/",
          "height": 159
        },
        "id": "aE3XYH_NONg8",
        "outputId": "5c37bbf9-8bab-4116-8ebf-37a8f27583ac"
      },
      "execution_count": null,
      "outputs": [
        {
          "output_type": "error",
          "ename": "ZeroDivisionError",
          "evalue": "division by zero",
          "traceback": [
            "\u001b[0;31m---------------------------------------------------------------------------\u001b[0m",
            "\u001b[0;31mZeroDivisionError\u001b[0m                         Traceback (most recent call last)",
            "\u001b[0;32m<ipython-input-8-7ff4f48dce33>\u001b[0m in \u001b[0;36m<cell line: 2>\u001b[0;34m()\u001b[0m\n\u001b[1;32m      1\u001b[0m \u001b[0;31m#runtime errors or logical or exception\u001b[0m\u001b[0;34m\u001b[0m\u001b[0;34m\u001b[0m\u001b[0m\n\u001b[0;32m----> 2\u001b[0;31m \u001b[0mprint\u001b[0m\u001b[0;34m(\u001b[0m\u001b[0;36m10\u001b[0m\u001b[0;34m/\u001b[0m\u001b[0;36m0\u001b[0m\u001b[0;34m)\u001b[0m\u001b[0;34m\u001b[0m\u001b[0;34m\u001b[0m\u001b[0m\n\u001b[0m",
            "\u001b[0;31mZeroDivisionError\u001b[0m: division by zero"
          ]
        }
      ]
    },
    {
      "cell_type": "code",
      "source": [
        "print(10/\"ten\")"
      ],
      "metadata": {
        "colab": {
          "base_uri": "https://localhost:8080/",
          "height": 141
        },
        "id": "EpWQzOxsO77z",
        "outputId": "9980be77-b3e7-438d-b072-b0cfffb556cd"
      },
      "execution_count": null,
      "outputs": [
        {
          "output_type": "error",
          "ename": "TypeError",
          "evalue": "unsupported operand type(s) for /: 'int' and 'str'",
          "traceback": [
            "\u001b[0;31m---------------------------------------------------------------------------\u001b[0m",
            "\u001b[0;31mTypeError\u001b[0m                                 Traceback (most recent call last)",
            "\u001b[0;32m<ipython-input-9-5b0f17ebac5b>\u001b[0m in \u001b[0;36m<cell line: 1>\u001b[0;34m()\u001b[0m\n\u001b[0;32m----> 1\u001b[0;31m \u001b[0mprint\u001b[0m\u001b[0;34m(\u001b[0m\u001b[0;36m10\u001b[0m\u001b[0;34m/\u001b[0m\u001b[0;34m\"ten\"\u001b[0m\u001b[0;34m)\u001b[0m\u001b[0;34m\u001b[0m\u001b[0;34m\u001b[0m\u001b[0m\n\u001b[0m",
            "\u001b[0;31mTypeError\u001b[0m: unsupported operand type(s) for /: 'int' and 'str'"
          ]
        }
      ]
    },
    {
      "cell_type": "code",
      "source": [],
      "metadata": {
        "id": "LpNfdYgGQfDi"
      },
      "execution_count": null,
      "outputs": []
    },
    {
      "cell_type": "code",
      "source": [
        "#what is exception -an unwanted and unexpected event that disturbs normal flow of program\n",
        "#example:-zero division error,value not found error,filenotfound error,type error"
      ],
      "metadata": {
        "id": "fWrenM1CPEcb"
      },
      "execution_count": null,
      "outputs": []
    },
    {
      "cell_type": "code",
      "source": [
        "#how to handle errors, by using try,except,else, finally\n",
        "#try :used for checking the error\n",
        "#except:-used for handle the errors\n",
        "#else:execute the code when there is no error\n",
        "#finally:execute the code when there is an error\n",
        "\n",
        "\n",
        "print(\"hi\")\n",
        "print(10/0)\n",
        "print(\"hello\")\n"
      ],
      "metadata": {
        "colab": {
          "base_uri": "https://localhost:8080/",
          "height": 211
        },
        "id": "9Ne7sAxQQg-e",
        "outputId": "ce9e474b-5a53-4655-e6ce-94a22d034ec8"
      },
      "execution_count": null,
      "outputs": [
        {
          "output_type": "stream",
          "name": "stdout",
          "text": [
            "hi\n"
          ]
        },
        {
          "output_type": "error",
          "ename": "ZeroDivisionError",
          "evalue": "division by zero",
          "traceback": [
            "\u001b[0;31m---------------------------------------------------------------------------\u001b[0m",
            "\u001b[0;31mZeroDivisionError\u001b[0m                         Traceback (most recent call last)",
            "\u001b[0;32m<ipython-input-10-6d7828bd7a5a>\u001b[0m in \u001b[0;36m<cell line: 9>\u001b[0;34m()\u001b[0m\n\u001b[1;32m      7\u001b[0m \u001b[0;34m\u001b[0m\u001b[0m\n\u001b[1;32m      8\u001b[0m \u001b[0mprint\u001b[0m\u001b[0;34m(\u001b[0m\u001b[0;34m\"hi\"\u001b[0m\u001b[0;34m)\u001b[0m\u001b[0;34m\u001b[0m\u001b[0;34m\u001b[0m\u001b[0m\n\u001b[0;32m----> 9\u001b[0;31m \u001b[0mprint\u001b[0m\u001b[0;34m(\u001b[0m\u001b[0;36m10\u001b[0m\u001b[0;34m/\u001b[0m\u001b[0;36m0\u001b[0m\u001b[0;34m)\u001b[0m\u001b[0;34m\u001b[0m\u001b[0;34m\u001b[0m\u001b[0m\n\u001b[0m\u001b[1;32m     10\u001b[0m \u001b[0mprint\u001b[0m\u001b[0;34m(\u001b[0m\u001b[0;34m\"hello\"\u001b[0m\u001b[0;34m)\u001b[0m\u001b[0;34m\u001b[0m\u001b[0;34m\u001b[0m\u001b[0m\n",
            "\u001b[0;31mZeroDivisionError\u001b[0m: division by zero"
          ]
        }
      ]
    },
    {
      "cell_type": "code",
      "source": [
        "print('hi')\n",
        "try:\n",
        "  print(10/0)\n",
        "except ZeroDivisionError:\n",
        "  print(10/2)\n",
        "print(\"hello\")"
      ],
      "metadata": {
        "colab": {
          "base_uri": "https://localhost:8080/"
        },
        "id": "5DHRuwy_TzMZ",
        "outputId": "89b97e0d-8421-4348-d3a2-4bac24b11ea8"
      },
      "execution_count": null,
      "outputs": [
        {
          "output_type": "stream",
          "name": "stdout",
          "text": [
            "hi\n",
            "5.0\n",
            "hello\n"
          ]
        }
      ]
    },
    {
      "cell_type": "code",
      "source": [
        "\n",
        "#control flow in try except\n",
        "try:\n",
        "   statement -1\n",
        "   statement-2\n",
        "   statement-3\n",
        "except:\n",
        "  statement-4\n",
        "\n",
        "statement-5\n",
        "#case-1:-if 1,2,3 statements do not have any errors then 1,2,3,5 excuted.4 not executed\n",
        "#case-2:-if 1 correct but 2 have an error then 1,4,5 excecuted . but 2,3, not executed\n",
        "#Here when there is an error then only 4 statement executes\n",
        "\n",
        "\n"
      ],
      "metadata": {
        "id": "RcjBpIrzfCpw"
      },
      "execution_count": null,
      "outputs": []
    },
    {
      "cell_type": "code",
      "source": [
        "try:\n",
        "  a=int(input(\"enter a number:\"))\n",
        "  b=int(input(\"enter a number:\"))\n",
        "  print(a/b)\n",
        "except ZeroDivisionError:\n",
        "  print(\"we can not divide the given inputs\")\n",
        "except ValueError:\n",
        "  print(\"please provide int value only\")\n",
        ""
      ],
      "metadata": {
        "colab": {
          "base_uri": "https://localhost:8080/",
          "height": 0
        },
        "id": "IIX64wI12t6i",
        "outputId": "94e6de8d-5d23-4ccb-89d9-0a4c56c59d42"
      },
      "execution_count": 5,
      "outputs": [
        {
          "output_type": "stream",
          "name": "stdout",
          "text": [
            "enter a number:10\n",
            "enter a number:ten\n",
            "please provide int value only\n"
          ]
        }
      ]
    },
    {
      "cell_type": "code",
      "source": [
        "try:\n",
        "  print(10/0)\n",
        "\n",
        "except(ZeroDivisionError) as sde:\n",
        "  print(\"zde\")\n",
        "except:\n",
        "  print(\"default error\")"
      ],
      "metadata": {
        "colab": {
          "base_uri": "https://localhost:8080/",
          "height": 0
        },
        "id": "NLFlgcP24rc7",
        "outputId": "10fdcd87-8c48-4af7-f8ae-f9c0d30d62ab"
      },
      "execution_count": 15,
      "outputs": [
        {
          "output_type": "stream",
          "name": "stdout",
          "text": [
            "zde\n"
          ]
        }
      ]
    },
    {
      "cell_type": "code",
      "source": [
        "try:\n",
        "  print(10/0)\n",
        "except:\n",
        "  print(\"default error\")#here default error prints"
      ],
      "metadata": {
        "colab": {
          "base_uri": "https://localhost:8080/",
          "height": 0
        },
        "id": "GEVI3QHH9hjG",
        "outputId": "f8649c85-e8e8-41cb-b56f-023faab02a01"
      },
      "execution_count": 16,
      "outputs": [
        {
          "output_type": "stream",
          "name": "stdout",
          "text": [
            "default error\n"
          ]
        }
      ]
    },
    {
      "cell_type": "code",
      "source": [
        "#FINALLY-CLEAN UP THE CODE\n",
        "#always finally block executed if there is an error or not\n",
        "\n",
        "try:\n",
        "  print(\"try\")\n",
        "except:\n",
        "  print(\"except\")\n",
        "finally:\n",
        "  print(\"final code\")\n"
      ],
      "metadata": {
        "colab": {
          "base_uri": "https://localhost:8080/",
          "height": 0
        },
        "id": "b-Od1a7g7JMx",
        "outputId": "9d12adcd-2064-4a5c-d34b-53a4e2689475"
      },
      "execution_count": 14,
      "outputs": [
        {
          "output_type": "stream",
          "name": "stdout",
          "text": [
            "try\n",
            "final code\n"
          ]
        }
      ]
    },
    {
      "cell_type": "code",
      "source": [
        "try:\n",
        "  print(10/0)\n",
        "except ZeroDivisionError:\n",
        "  print(\"zde\")\n",
        "finally:\n",
        "  print(\"this is final code\")\n"
      ],
      "metadata": {
        "colab": {
          "base_uri": "https://localhost:8080/",
          "height": 0
        },
        "id": "Q3oL7aOm6mDq",
        "outputId": "aaa35fd2-79b1-4dd0-bda8-f02cc07754c8"
      },
      "execution_count": 12,
      "outputs": [
        {
          "output_type": "stream",
          "name": "stdout",
          "text": [
            "zde\n",
            "this is final code\n"
          ]
        }
      ]
    },
    {
      "cell_type": "code",
      "source": [
        "try:\n",
        "  print(\"try\")#in this there is no error then it is prints\n",
        "  print(10/0)\n",
        "except ZeroDivisionError:\n",
        "  print(\"zde\")\n",
        "finally:\n",
        "  print(\"this is final code\")"
      ],
      "metadata": {
        "colab": {
          "base_uri": "https://localhost:8080/",
          "height": 0
        },
        "id": "xMTQZ5XG8qCI",
        "outputId": "f7149bc6-d9b7-46c1-cc9c-c449137724ec"
      },
      "execution_count": 13,
      "outputs": [
        {
          "output_type": "stream",
          "name": "stdout",
          "text": [
            "try\n",
            "zde\n",
            "this is final code\n"
          ]
        }
      ]
    },
    {
      "cell_type": "code",
      "source": [
        "try:\n",
        "  print(\"python\")\n",
        "except:\n",
        "  print(\"pl\")\n",
        "else:\n",
        "  print(\"no exception\")#no need exception handle then execute else block\n"
      ],
      "metadata": {
        "colab": {
          "base_uri": "https://localhost:8080/",
          "height": 0
        },
        "id": "ddcsaBY088g-",
        "outputId": "f795167e-d769-4088-cb45-06559756ee02"
      },
      "execution_count": 17,
      "outputs": [
        {
          "output_type": "stream",
          "name": "stdout",
          "text": [
            "python\n",
            "no exception\n"
          ]
        }
      ]
    },
    {
      "cell_type": "code",
      "source": [
        "try:\n",
        "  print(\"this is my first try\")\n",
        "  try:\n",
        "    print(\"this is a correct\")\n",
        "    print(10/5)\n",
        "  except ZeroDivisionError:\n",
        "    print(\"error is handled\")\n",
        "  finally:\n",
        "    print(\"exception handled\")\n",
        "except:\n",
        "  print(\"expected\")\n",
        "finally:\n",
        "  print(\"my job is done\")"
      ],
      "metadata": {
        "colab": {
          "base_uri": "https://localhost:8080/",
          "height": 0
        },
        "id": "PpIRT_kr-jeI",
        "outputId": "cf385091-8a1f-4191-bef1-2c24346e652d"
      },
      "execution_count": 18,
      "outputs": [
        {
          "output_type": "stream",
          "name": "stdout",
          "text": [
            "this is my first try\n",
            "this is a correct\n",
            "2.0\n",
            "exception handled\n",
            "my job is done\n"
          ]
        }
      ]
    },
    {
      "cell_type": "code",
      "source": [
        "try:\n",
        "  print(\"this is my first try\")\n",
        "  try:\n",
        "    print(\"this is a correct\")\n",
        "    print(10/0)# here only change done 5 remove 0 put\n",
        "  except ZeroDivisionError:\n",
        "\n",
        "    print(\"error is handled\")\n",
        "  finally:\n",
        "    print(\"exception handled\")\n",
        "except:\n",
        "  print(\"expected\")\n",
        "finally:\n",
        "  print(\"my job is done\")"
      ],
      "metadata": {
        "colab": {
          "base_uri": "https://localhost:8080/",
          "height": 0
        },
        "id": "2LnDWj4QAScR",
        "outputId": "fa3731c0-a446-416d-ef09-428ea7adc12b"
      },
      "execution_count": 25,
      "outputs": [
        {
          "output_type": "stream",
          "name": "stdout",
          "text": [
            "this is my first try\n",
            "this is a correct\n",
            "exception handled\n",
            "expected\n",
            "my job is done\n"
          ]
        }
      ]
    },
    {
      "cell_type": "code",
      "source": [
        "try:\n",
        "  a=10/0# here it is in except block prints default error\n",
        "  if a>10:\n",
        "    print(\"correct\")\n",
        "\n",
        "except:\n",
        "  print(\"zde\")"
      ],
      "metadata": {
        "colab": {
          "base_uri": "https://localhost:8080/",
          "height": 0
        },
        "id": "8sq2RoJ_A33h",
        "outputId": "615de49c-8f7b-4fce-c8b4-3b8ce7f64561"
      },
      "execution_count": 20,
      "outputs": [
        {
          "output_type": "stream",
          "name": "stdout",
          "text": [
            "zde\n"
          ]
        }
      ]
    },
    {
      "cell_type": "code",
      "source": [
        "#raise keyword used for raise the wanted exception .our own we raise the exception\n",
        "# raise exception used for raise alternative exception\n",
        "a=10\n",
        "if a%2==0:\n",
        "  raise Exception(\"number is even or odd\")\n"
      ],
      "metadata": {
        "colab": {
          "base_uri": "https://localhost:8080/",
          "height": 176
        },
        "id": "hXMJWLRxBYJX",
        "outputId": "47f7f002-305d-4852-b7d7-b06094e934d3"
      },
      "execution_count": 22,
      "outputs": [
        {
          "output_type": "error",
          "ename": "Exception",
          "evalue": "number is even or odd",
          "traceback": [
            "\u001b[0;31m---------------------------------------------------------------------------\u001b[0m",
            "\u001b[0;31mException\u001b[0m                                 Traceback (most recent call last)",
            "\u001b[0;32m<ipython-input-22-6343d54c88a9>\u001b[0m in \u001b[0;36m<cell line: 3>\u001b[0;34m()\u001b[0m\n\u001b[1;32m      2\u001b[0m \u001b[0ma\u001b[0m\u001b[0;34m=\u001b[0m\u001b[0;36m10\u001b[0m\u001b[0;34m\u001b[0m\u001b[0;34m\u001b[0m\u001b[0m\n\u001b[1;32m      3\u001b[0m \u001b[0;32mif\u001b[0m \u001b[0ma\u001b[0m\u001b[0;34m%\u001b[0m\u001b[0;36m2\u001b[0m\u001b[0;34m==\u001b[0m\u001b[0;36m0\u001b[0m\u001b[0;34m:\u001b[0m\u001b[0;34m\u001b[0m\u001b[0;34m\u001b[0m\u001b[0m\n\u001b[0;32m----> 4\u001b[0;31m   \u001b[0;32mraise\u001b[0m \u001b[0mException\u001b[0m\u001b[0;34m(\u001b[0m\u001b[0;34m\"number is even or odd\"\u001b[0m\u001b[0;34m)\u001b[0m\u001b[0;34m\u001b[0m\u001b[0;34m\u001b[0m\u001b[0m\n\u001b[0m",
            "\u001b[0;31mException\u001b[0m: number is even or odd"
          ]
        }
      ]
    },
    {
      "cell_type": "code",
      "source": [
        "a=10\n",
        "try:\n",
        "  a=int(a)\n",
        "  print(a)\n",
        "except:\n",
        "  raise Exception(\"data science\")"
      ],
      "metadata": {
        "colab": {
          "base_uri": "https://localhost:8080/",
          "height": 0
        },
        "id": "GLaCyV2aCe5_",
        "outputId": "26f568f8-7f35-4070-f3e2-da8a70425b31"
      },
      "execution_count": 26,
      "outputs": [
        {
          "output_type": "stream",
          "name": "stdout",
          "text": [
            "10\n"
          ]
        }
      ]
    }
  ]
}